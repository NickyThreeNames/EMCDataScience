{
 "cells": [
  {
   "cell_type": "markdown",
   "metadata": {
    "collapsed": false
   },
   "source": [
    "In the Income linear regression example, consider the distirbution of the outcom evariable Income.  Does such a non-normally distributed outcome variable violate the general assumption of a linear regression model?\n",
    "\n",
    "Answer:\n",
    "\n",
    "No, it does not violate the general assumption of the linear regression model.  Normality is assumed for the errors in the model, as long as those are normally distributed, then the outcome variables normality does not effect the assumptions of the model.  If the error terms are not normally distributed, then we may want to look at transforming Income."
   ]
  },
  {
   "cell_type": "markdown",
   "metadata": {},
   "source": [
    "In the case of categorical values with n possible values, explain the following:\n",
    "    a) why only n-1 binary variables?\n",
    "    b) why using n variables would be problematic?\n",
    "    \n",
    "Answer:\n",
    "\n",
    "a) We only need variables for n-1 cases as the final nth case is when all of the n-1 options are set to 0.  We do not need a separate variable for this reference case since we would set the relevant category to 1 except for the nth category.\n",
    "b) Using n would not give us a reference case to use when creating the model parameters and intercept.  It also create an artificial measurement of difference between the categories.\n"
   ]
  },
  {
   "cell_type": "markdown",
   "metadata": {},
   "source": [
    "In the example of using Wyoming as a reference case, discuss the effect on the estimated model paramters, including the intercept, if another state was selected as the reference case.\n",
    "\n",
    "Answer:\n",
    "\n",
    "In this example, the state variables represent the difference in income between Wyoming and that particular state.  Changing the state used as reference would mean that we need to recalculate the intercept and parameters since states will have a different income relative to the new state."
   ]
  },
  {
   "cell_type": "markdown",
   "metadata": {},
   "source": [
    "Describe how logistic regression can be used as a classifier.\n",
    "\n",
    "Where linear regression provides an outcome variable as a continuous variable, logistic regression predicts the likelihood of a certain outcome.  These are usually categorical such as the likelihood of purchase or likelihood of canceling service."
   ]
  },
  {
   "cell_type": "markdown",
   "metadata": {},
   "source": [
    "Discuss how the ROC curve can be used to determine an appropriate threhold value for a classifier.\n",
    "    \n",
    "The ROC curve plots the true positive rate against the false positive rate.  We can quickly see the TPR and FPR for different threshold values.  We may be more concerned with the TPR vs FPR depending on what is being modeled, for example a medical test versus a customer churn model.  The ROC curve allows us to make an informed choice about the model threshold.      \n"
   ]
  },
  {
   "cell_type": "markdown",
   "metadata": {},
   "source": [
    "If the probability of an event occurring is 0.4, then\n",
    "a) What is the odds ratio?\n",
    "b) What is the log odds ratio?\n",
    "\n",
    "The odds of success are defined as the ratio of the probability of success over the probability of failure.  In this example probability of success is .4 and probability of failure is 0.6.  So the odds ratio is .4/.6 or 2/3 aka 0.666667\n",
    "\n",
    "The transformation from odds to log of odds is the log transformation.  This is a monotonic transformation (ie the greater the odds, the greater the log of odds and vice versa). -0.405465108108164"
   ]
  },
  {
   "cell_type": "code",
   "execution_count": 11,
   "metadata": {
    "collapsed": false
   },
   "outputs": [
    {
     "data": {
      "text/html": [
       "0.666666666666667"
      ],
      "text/latex": [
       "0.666666666666667"
      ],
      "text/markdown": [
       "0.666666666666667"
      ],
      "text/plain": [
       "[1] 0.6666667"
      ]
     },
     "execution_count": 11,
     "metadata": {},
     "output_type": "execute_result"
    }
   ],
   "source": [
    "0.4/(1-0.4)"
   ]
  },
  {
   "cell_type": "code",
   "execution_count": 10,
   "metadata": {
    "collapsed": false
   },
   "outputs": [
    {
     "data": {
      "text/html": [
       "-0.405465108108164"
      ],
      "text/latex": [
       "-0.405465108108164"
      ],
      "text/markdown": [
       "-0.405465108108164"
      ],
      "text/plain": [
       "[1] -0.4054651"
      ]
     },
     "execution_count": 10,
     "metadata": {},
     "output_type": "execute_result"
    }
   ],
   "source": [
    "log(0.4/(1-0.4))"
   ]
  },
  {
   "cell_type": "code",
   "execution_count": 12,
   "metadata": {
    "collapsed": false
   },
   "outputs": [
    {
     "data": {
      "text/html": [
       "1.49182469764127"
      ],
      "text/latex": [
       "1.49182469764127"
      ],
      "text/markdown": [
       "1.49182469764127"
      ],
      "text/plain": [
       "[1] 1.491825"
      ]
     },
     "execution_count": 12,
     "metadata": {},
     "output_type": "execute_result"
    }
   ],
   "source": []
  },
  {
   "cell_type": "markdown",
   "metadata": {},
   "source": [
    "If b3 = -.5 is an estimated coefficient in a linear regression model, what is the effect on the odds ratio for every one unit increase in the value x3.  \n",
    "\n",
    "\n",
    "The log odds ratio would change by the coefficient of -.5 and the odds ratio would change by exp(-.5)"
   ]
  },
  {
   "cell_type": "code",
   "execution_count": 13,
   "metadata": {
    "collapsed": false
   },
   "outputs": [
    {
     "data": {
      "text/html": [
       "0.606530659712633"
      ],
      "text/latex": [
       "0.606530659712633"
      ],
      "text/markdown": [
       "0.606530659712633"
      ],
      "text/plain": [
       "[1] 0.6065307"
      ]
     },
     "execution_count": 13,
     "metadata": {},
     "output_type": "execute_result"
    }
   ],
   "source": [
    "exp(-.5)"
   ]
  },
  {
   "cell_type": "code",
   "execution_count": null,
   "metadata": {
    "collapsed": true
   },
   "outputs": [],
   "source": []
  }
 ],
 "metadata": {
  "kernelspec": {
   "display_name": "R",
   "language": "r",
   "name": "ir"
  },
  "language_info": {
   "codemirror_mode": "r",
   "file_extension": ".r",
   "mimetype": "text/x-r-source",
   "name": "R",
   "pygments_lexer": "r",
   "version": "3.2.2"
  }
 },
 "nbformat": 4,
 "nbformat_minor": 0
}
