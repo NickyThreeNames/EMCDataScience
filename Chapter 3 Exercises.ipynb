{
 "cells": [
  {
   "cell_type": "markdown",
   "metadata": {
    "collapsed": false
   },
   "source": [
    "Chapter 3 exercises from textbook - Using R Kernel"
   ]
  },
  {
   "cell_type": "code",
   "execution_count": 4,
   "metadata": {
    "collapsed": false
   },
   "outputs": [],
   "source": [
    "# How many levels does fdata contain?\n",
    "\n",
    "data = c(1,2,2,3,1,2,3,3,1,2,3,3,1)\n",
    "fdata = factor(data)"
   ]
  },
  {
   "cell_type": "code",
   "execution_count": 5,
   "metadata": {
    "collapsed": false
   },
   "outputs": [
    {
     "data": {
      "text/html": [
       "<ol class=list-inline>\n",
       "\t<li>'1'</li>\n",
       "\t<li>'2'</li>\n",
       "\t<li>'3'</li>\n",
       "</ol>\n"
      ],
      "text/latex": [
       "\\begin{enumerate*}\n",
       "\\item '1'\n",
       "\\item '2'\n",
       "\\item '3'\n",
       "\\end{enumerate*}\n"
      ],
      "text/markdown": [
       "1. '1'\n",
       "2. '2'\n",
       "3. '3'\n",
       "\n",
       "\n"
      ],
      "text/plain": [
       "[1] \"1\" \"2\" \"3\""
      ]
     },
     "execution_count": 5,
     "metadata": {},
     "output_type": "execute_result"
    }
   ],
   "source": [
    "levels(fdata)\n",
    "#It contains 3 levels"
   ]
  },
  {
   "cell_type": "code",
   "execution_count": 6,
   "metadata": {
    "collapsed": true
   },
   "outputs": [],
   "source": [
    "#Two vectors, v1 and v2 are created with the following code:\n",
    "\n",
    "v1 <- 1:5\n",
    "v2 <- 6:2\n",
    "\n",
    "#what are the results of cbind(v1, v2) and rbind(v1, v2)?"
   ]
  },
  {
   "cell_type": "code",
   "execution_count": 8,
   "metadata": {
    "collapsed": false
   },
   "outputs": [
    {
     "data": {
      "text/html": [
       "<table>\n",
       "<thead><tr><th scope=col>v1</th><th scope=col>v2</th></tr></thead>\n",
       "<tbody>\n",
       "\t<tr><td>1</td><td>6</td></tr>\n",
       "\t<tr><td>2</td><td>5</td></tr>\n",
       "\t<tr><td>3</td><td>4</td></tr>\n",
       "\t<tr><td>4</td><td>3</td></tr>\n",
       "\t<tr><td>5</td><td>2</td></tr>\n",
       "</tbody>\n",
       "</table>\n"
      ],
      "text/latex": [
       "\\begin{tabular}{ll}\n",
       " v1 & v2\\\\\n",
       "\\hline\n",
       "\t 1 & 6\\\\\n",
       "\t 2 & 5\\\\\n",
       "\t 3 & 4\\\\\n",
       "\t 4 & 3\\\\\n",
       "\t 5 & 2\\\\\n",
       "\\end{tabular}\n"
      ],
      "text/markdown": [
       "1. 1\n",
       "2. 2\n",
       "3. 3\n",
       "4. 4\n",
       "5. 5\n",
       "6. 6\n",
       "7. 5\n",
       "8. 4\n",
       "9. 3\n",
       "10. 2\n",
       "\n",
       "\n"
      ],
      "text/plain": [
       "     v1 v2\n",
       "[1,]  1  6\n",
       "[2,]  2  5\n",
       "[3,]  3  4\n",
       "[4,]  4  3\n",
       "[5,]  5  2"
      ]
     },
     "execution_count": 8,
     "metadata": {},
     "output_type": "execute_result"
    },
    {
     "data": {
      "text/html": [
       "<table>\n",
       "<tbody>\n",
       "\t<tr><th scope=row>v1</th><td>1</td><td>2</td><td>3</td><td>4</td><td>5</td></tr>\n",
       "\t<tr><th scope=row>v2</th><td>6</td><td>5</td><td>4</td><td>3</td><td>2</td></tr>\n",
       "</tbody>\n",
       "</table>\n"
      ],
      "text/latex": [
       "\\begin{tabular}{r|lllll}\n",
       "\tv1 & 1 & 2 & 3 & 4 & 5\\\\\n",
       "\tv2 & 6 & 5 & 4 & 3 & 2\\\\\n",
       "\\end{tabular}\n"
      ],
      "text/markdown": [
       "1. 1\n",
       "2. 6\n",
       "3. 2\n",
       "4. 5\n",
       "5. 3\n",
       "6. 4\n",
       "7. 4\n",
       "8. 3\n",
       "9. 5\n",
       "10. 2\n",
       "\n",
       "\n"
      ],
      "text/plain": [
       "   [,1] [,2] [,3] [,4] [,5]\n",
       "v1    1    2    3    4    5\n",
       "v2    6    5    4    3    2"
      ]
     },
     "execution_count": 8,
     "metadata": {},
     "output_type": "execute_result"
    }
   ],
   "source": [
    "#Cbind creates a 4x2 matrix while rbind creates a 2x4 matrix.\n",
    "cbind(v1, v2)\n",
    "rbind(v1, v2)"
   ]
  },
  {
   "cell_type": "markdown",
   "metadata": {
    "collapsed": true
   },
   "source": [
    "What R command(s) would you use to drop null values?\n",
    "\n",
    "for functions I would use na.rm = True to remove nulls. In a dataframe (df),  I would use na.exclude(df) to create a new dataframe without null values.\n"
   ]
  },
  {
   "cell_type": "code",
   "execution_count": 10,
   "metadata": {
    "collapsed": false
   },
   "outputs": [
    {
     "name": "stderr",
     "output_type": "stream",
     "text": [
      "Warning message:\n",
      "In install.packages(\"ggplot2\"): 'lib = \"/projects/sage/sage-6.10/local/lib/R/library\"' is not writable"
     ]
    },
    {
     "ename": "ERROR",
     "evalue": "Error in install.packages(\"ggplot2\"): unable to install packages\n",
     "output_type": "error",
     "traceback": [
      "Error in install.packages(\"ggplot2\"): unable to install packages\nTraceback:\n",
      "1. install.packages(\"ggplot2\")",
      "2. stop(\"unable to install packages\")"
     ]
    }
   ],
   "source": [
    "#What R commands can be used to install an R package?\n",
    "\n",
    "install.packages('ggplot2') # to install\n",
    "library('ggplot2') #to load in environment"
   ]
  },
  {
   "cell_type": "code",
   "execution_count": 11,
   "metadata": {
    "collapsed": false
   },
   "outputs": [],
   "source": [
    "#What R function is used to convert a vector as a category?\n",
    "\n",
    "data = c(1,2,4,4)\n",
    "data_factor <- factor(data)\n"
   ]
  },
  {
   "cell_type": "markdown",
   "metadata": {
    "collapsed": true
   },
   "source": [
    "What is a rug plot used for in a density plot?\n",
    "\n",
    "It shows the distribution of the variable being examined."
   ]
  },
  {
   "cell_type": "markdown",
   "metadata": {
    "collapsed": true
   },
   "source": [
    "Figure 3-27 shows the density plot of the purchase sizes (in dollars). What would be your recommendation to enhance the plot to detect more structures that otherwise may have been missed?\n",
    "\n",
    "I would log transform the dollar amount since there is such a long tail in the order amounts."
   ]
  },
  {
   "cell_type": "markdown",
   "metadata": {
    "collapsed": true
   },
   "source": [
    "How many sections does a box and whisker plot divide data into? What are these sections?\n",
    "\n",
    "\n",
    "Five sections if you include the dots.  The minimum, maximum, the first quartile, the third quartile and the middle quartile aka the mean.\n",
    "Alternately you could describe it as dividing the data into four quartiles.\n",
    "\n"
   ]
  },
  {
   "cell_type": "markdown",
   "metadata": {
    "collapsed": true
   },
   "source": [
    "According to figure 3-18, what attributes are correlated? How would you describe their relationship?\n",
    "\n",
    "Petal length and sepal width have a linear correlation.  Also, petal length and petal width have a highly correlated linear relationship."
   ]
  },
  {
   "cell_type": "markdown",
   "metadata": {
    "collapsed": false
   },
   "source": [
    "What function can be used to fit a non-linear line to the data?\n",
    "\n",
    "loess()"
   ]
  },
  {
   "cell_type": "markdown",
   "metadata": {
    "collapsed": true
   },
   "source": [
    "If data is skewed and all values are positive, what can be used to detect structure that might be overlooked?\n",
    "\n",
    "Log transformation can be used to uncover structures in the data if it is skewed."
   ]
  },
  {
   "cell_type": "markdown",
   "metadata": {
    "collapsed": true
   },
   "source": [
    "What is a type 1 error?  What is a type 2 error? Is one always more serious than the other?\n",
    "\n",
    "Type 1 is a false positive while type 2 is a false negative.  \n",
    "It depends on what is being tested/modeled to decide which error is more serious.  If we are developing a medical screening test, a false negative could be much more dangerous assuming there were follow-up tests to weed out false positives later.\n"
   ]
  },
  {
   "cell_type": "markdown",
   "metadata": {
    "collapsed": true
   },
   "source": [
    "Suppose everyone who visits a retail website gets one promotional offer or no promotion at all.  We want to see if making a promotional offer makes a difference.  What statistical method would you recommend for this analysis?\n",
    "\n",
    "I would recommend a Wilcox Rank-Sum test.  This will compare the means of the two populations but is robust enough to not require the populations to be normally distributed (which they may or may not be).  Additionally, I would follow-up with a power test to see if we have enough observations to act on this information confidently."
   ]
  },
  {
   "cell_type": "markdown",
   "metadata": {},
   "source": [
    "You are analyzing tow normally distributed populations, and your null hypothesis is that the mean of the first population is equal to the mean of the second.  Asusme the significance level is set at 0.05. If the observed p-value is 4.33e-05, what will be your decision regarding the null hypothesis?\n",
    "\n",
    "I would reject the null hypothesis given the p-value."
   ]
  },
  {
   "cell_type": "code",
   "execution_count": null,
   "metadata": {
    "collapsed": true
   },
   "outputs": [],
   "source": []
  }
 ],
 "metadata": {
  "kernelspec": {
   "display_name": "R",
   "language": "r",
   "name": "ir"
  },
  "language_info": {
   "codemirror_mode": "r",
   "file_extension": ".r",
   "mimetype": "text/x-r-source",
   "name": "R",
   "pygments_lexer": "r",
   "version": "3.2.2"
  }
 },
 "nbformat": 4,
 "nbformat_minor": 0
}
