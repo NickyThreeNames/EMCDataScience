{
 "cells": [
  {
   "cell_type": "markdown",
   "metadata": {
    "collapsed": false
   },
   "source": [
    "## Chapter 5 Exercises"
   ]
  },
  {
   "cell_type": "markdown",
   "metadata": {
    "collapsed": true
   },
   "source": [
    "What is the Apriori property?\n",
    "\n",
    "Answer:\n",
    "If an itemset is frequent, then any subset of the frequent itemset are also frequent."
   ]
  },
  {
   "cell_type": "code",
   "execution_count": 1,
   "metadata": {
    "collapsed": false
   },
   "outputs": [
    {
     "name": "stderr",
     "output_type": "stream",
     "text": [
      "Loading required package: Matrix\n",
      "\n",
      "Attaching package: ‘arules’\n",
      "\n",
      "The following objects are masked from ‘package:base’:\n",
      "\n",
      "    abbreviate, write\n",
      "\n",
      "Loading required package: grid\n"
     ]
    }
   ],
   "source": [
    "library(arules)\n",
    "library(arulesViz)"
   ]
  },
  {
   "cell_type": "code",
   "execution_count": 10,
   "metadata": {
    "collapsed": false
   },
   "outputs": [
    {
     "name": "stdout",
     "output_type": "stream",
     "text": [
      "Apriori\n",
      "\n",
      "Parameter specification:\n",
      " confidence minval smax arem  aval originalSupport support minlen maxlen\n",
      "         NA    0.1    1 none FALSE            TRUE     0.5      1      1\n",
      "            target   ext\n",
      " frequent itemsets FALSE\n",
      "\n",
      "Algorithmic control:\n",
      " filter tree heap memopt load sort verbose\n",
      "    0.1 TRUE TRUE  FALSE TRUE    2    TRUE\n",
      "\n",
      "Absolute minimum support count: 2 \n",
      "\n",
      "set item appearances ...[0 item(s)] done [0.00s].\n",
      "set transactions ...[4 item(s), 5 transaction(s)] done [0.00s].\n",
      "sorting and recoding items ... [2 item(s)] done [0.00s].\n",
      "creating transaction tree ... done [0.00s].\n",
      "checking subsets of size 1 done [0.00s].\n",
      "writing ... [2 set(s)] done [0.00s].\n",
      "creating S4 object  ... done [0.00s].\n"
     ]
    },
    {
     "data": {
      "text/plain": [
       "set of 2 itemsets\n",
       "\n",
       "most frequent items:\n",
       "      A       C       B       D (Other) \n",
       "      1       1       0       0       0 \n",
       "\n",
       "element (itemset/transaction) length distribution:sizes\n",
       "1 \n",
       "2 \n",
       "\n",
       "   Min. 1st Qu.  Median    Mean 3rd Qu.    Max. \n",
       "      1       1       1       1       1       1 \n",
       "\n",
       "summary of quality measures:\n",
       "    support   \n",
       " Min.   :0.8  \n",
       " 1st Qu.:0.8  \n",
       " Median :0.8  \n",
       " Mean   :0.8  \n",
       " 3rd Qu.:0.8  \n",
       " Max.   :0.8  \n",
       "\n",
       "includes transaction ID lists: FALSE \n",
       "\n",
       "mining info:\n",
       "   data ntransactions support confidence\n",
       " trans1             5     0.5          1"
      ]
     },
     "execution_count": 10,
     "metadata": {},
     "output_type": "execute_result"
    }
   ],
   "source": [
    "#Which itemsets satisfy the minimum support of 0.5?\n",
    "\n",
    "tran <- list(\n",
    "    c('A', 'B', 'C'),\n",
    "    c('A', 'C'),\n",
    "    c('B', 'C'),\n",
    "    c('A', 'D'),\n",
    "    c('A', 'C', 'D'))\n",
    "\n",
    "names(tran) <- paste(\"Tr\", c(1:5), sep=\"\")\n",
    "trans1 <- as(tran, \"transactions\")\n",
    "#summary(trans1)\n",
    "itemsets <- apriori(trans1, parameter =list(minlen = 1, maxlen = 1, support = 0.5, target = \"frequent itemsets\"))\n",
    "summary(itemsets)\n",
    "#A and C are frequent"
   ]
  },
  {
   "cell_type": "markdown",
   "metadata": {},
   "source": [
    "How are interesting rules identified?\n",
    "\n",
    "Confidence can tell us whether a rule is trustworthy and interesting but not if it is conincidental.  Measures like lift and leverage compare the support of both X and Y against their support individually.  Using these metrics, we can help to ensure that rules are both interesting and non-coincidental.  \n",
    "\n",
    "Additionaly, subjective domain knowledge can be needed to see if a rule is interesting or coincidental."
   ]
  },
  {
   "cell_type": "markdown",
   "metadata": {},
   "source": [
    "A local retailer has a database that stores 10,000 transactions of last summer.  After analyzing the data, a data scince team has identified the following statistics:\n",
    "\n",
    "Answer the following questions:\n",
    "a) What are the support values for the preceding itemsets?\n",
    "b) Assuming the minimum support is 0.05, which itemsets are considered frequent?\n",
    "c) What are the confidence values of {battery} -> {sunscreent} and {battery, sunscreen} -> {sandasl} which of the two rules is more interesting?\n",
    "d) List all the candidate rules that can be found from the statistics.  Which rules are considered interesting at the minimum confidence 0.25? Out of these interesting rules, which rule is condered the most useful(that is, least coincidental)?"
   ]
  },
  {
   "cell_type": "markdown",
   "metadata": {},
   "source": [
    "ANSWER: \n",
    "\n",
    "battery | 6,000\n",
    "sunscreen | 5000\n",
    "sandals | 4000\n",
    "bowls | 2000\n",
    "battery, sunscreen | 1500\n",
    "battery, sandals | 1000\n",
    "battery, bowls | 250\n",
    "battery, sunscreen, sandals | 600\n",
    "\n",
    "support values:\n",
    ".6\n",
    ".5\n",
    ".4\n",
    ".2\n",
    ".15\n",
    ".025\n",
    ".06\n",
    "\n",
    "Given .05 support all are frequent except {battery, bowls} the support is just 0.025\n",
    "\n",
    "{battery} -> {sunscreen} confidence is 1500/6000 or 0.25\n",
    "{battery, sunscreen} -> {sandals} is 600/1500 or 0.4\n",
    "The second combo has higher confidence and is therefore more interesting."
   ]
  },
  {
   "cell_type": "code",
   "execution_count": null,
   "metadata": {
    "collapsed": true
   },
   "outputs": [],
   "source": []
  }
 ],
 "metadata": {
  "kernelspec": {
   "display_name": "R",
   "language": "r",
   "name": "ir"
  },
  "language_info": {
   "codemirror_mode": "r",
   "file_extension": ".r",
   "mimetype": "text/x-r-source",
   "name": "R",
   "pygments_lexer": "r",
   "version": "3.2.2"
  }
 },
 "nbformat": 4,
 "nbformat_minor": 0
}
